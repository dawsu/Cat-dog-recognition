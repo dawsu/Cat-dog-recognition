{
 "metadata": {
  "kernelspec": {
   "language": "python",
   "display_name": "Python 3",
   "name": "python3"
  },
  "language_info": {
   "name": "python",
   "version": "3.7.12",
   "mimetype": "text/x-python",
   "codemirror_mode": {
    "name": "ipython",
    "version": 3
   },
   "pygments_lexer": "ipython3",
   "nbconvert_exporter": "python",
   "file_extension": ".py"
  }
 },
 "nbformat_minor": 4,
 "nbformat": 4,
 "cells": [
  {
   "cell_type": "code",
   "source": [
    "import tensorflow as tf\n",
    "import glob"
   ],
   "metadata": {
    "_uuid": "8f2839f25d086af736a60e9eeb907d3b93b6e0e5",
    "_cell_guid": "b1076dfc-b9ad-4769-8c92-a6c4dae69d19",
    "execution": {
     "iopub.status.busy": "2022-08-07T07:08:24.381495Z",
     "iopub.execute_input": "2022-08-07T07:08:24.382334Z",
     "iopub.status.idle": "2022-08-07T07:08:29.472957Z",
     "shell.execute_reply.started": "2022-08-07T07:08:24.382227Z",
     "shell.execute_reply": "2022-08-07T07:08:29.471714Z"
    },
    "trusted": true,
    "pycharm": {
     "name": "#%%\n"
    }
   },
   "execution_count": 1,
   "outputs": []
  },
  {
   "cell_type": "code",
   "source": [
    "def load_preprocess_image(path,labels):\n",
    "    images = tf.io.read_file(path)\n",
    "    images = tf.image.decode_jpeg(images,channels=3)\n",
    "    images = tf.image.resize(images,[224,224])\n",
    "    images = tf.image.random_flip_left_right(images)\n",
    "    images = tf.image.random_flip_up_down(images)\n",
    "    images = tf.cast(images,tf.float32)\n",
    "    images = images/255.0\n",
    "    labels = tf.reshape(labels,[1])\n",
    "    return images,labels"
   ],
   "metadata": {
    "execution": {
     "iopub.status.busy": "2022-08-07T07:08:29.475009Z",
     "iopub.execute_input": "2022-08-07T07:08:29.476328Z",
     "iopub.status.idle": "2022-08-07T07:08:29.487472Z",
     "shell.execute_reply.started": "2022-08-07T07:08:29.476296Z",
     "shell.execute_reply": "2022-08-07T07:08:29.486484Z"
    },
    "trusted": true,
    "pycharm": {
     "name": "#%%\n"
    }
   },
   "execution_count": 2,
   "outputs": []
  },
  {
   "cell_type": "code",
   "source": [
    "def load_preprocess_image_test (path,labels):\n",
    "    images = tf.io.read_file(path)\n",
    "    images = tf.image.decode_jpeg(images,channels=3)\n",
    "    images = tf.image.resize(images,[224,224])\n",
    "    images = tf.cast(images,tf.float32)\n",
    "    images = images/255.0\n",
    "    labels = tf.reshape(labels,[1])\n",
    "    return images,labels"
   ],
   "metadata": {
    "execution": {
     "iopub.status.busy": "2022-08-07T07:08:29.488731Z",
     "iopub.execute_input": "2022-08-07T07:08:29.489662Z",
     "iopub.status.idle": "2022-08-07T07:08:29.501341Z",
     "shell.execute_reply.started": "2022-08-07T07:08:29.489625Z",
     "shell.execute_reply": "2022-08-07T07:08:29.500407Z"
    },
    "trusted": true,
    "pycharm": {
     "name": "#%%\n"
    }
   },
   "execution_count": 3,
   "outputs": []
  },
  {
   "cell_type": "code",
   "source": [
    "AUTOTUNE = tf.data.experimental.AUTOTUNE"
   ],
   "metadata": {
    "execution": {
     "iopub.status.busy": "2022-08-07T07:08:29.503714Z",
     "iopub.execute_input": "2022-08-07T07:08:29.504783Z",
     "iopub.status.idle": "2022-08-07T07:08:29.510403Z",
     "shell.execute_reply.started": "2022-08-07T07:08:29.504747Z",
     "shell.execute_reply": "2022-08-07T07:08:29.509572Z"
    },
    "trusted": true,
    "pycharm": {
     "name": "#%%\n"
    }
   },
   "execution_count": 4,
   "outputs": []
  },
  {
   "cell_type": "code",
   "source": [
    "train_image_path = glob.glob('../input/cat-and-dog/training_set/training_set/*/*.jpg')\n",
    "train_image_label = [int(p.split('/')[5] == 'cats') for p in train_image_path]\n",
    "train_image_ds = tf.data.Dataset.from_tensor_slices((train_image_path,train_image_label))\n",
    "train_image_ds = train_image_ds.map(load_preprocess_image,num_parallel_calls=AUTOTUNE)\n",
    "\n",
    "test_image_path = glob.glob('../input/cat-and-dog/test_set/test_set/*/*.jpg')\n",
    "test_image_label = [int(p.split('/')[5] == 'cats') for p in test_image_path]\n",
    "test_image_ds = tf.data.Dataset.from_tensor_slices((test_image_path,test_image_label))\n",
    "test_image_ds = test_image_ds.map(load_preprocess_image_test,num_parallel_calls=AUTOTUNE)"
   ],
   "metadata": {
    "execution": {
     "iopub.status.busy": "2022-08-07T07:08:29.511900Z",
     "iopub.execute_input": "2022-08-07T07:08:29.512368Z",
     "iopub.status.idle": "2022-08-07T07:08:33.820434Z",
     "shell.execute_reply.started": "2022-08-07T07:08:29.512333Z",
     "shell.execute_reply": "2022-08-07T07:08:33.819418Z"
    },
    "trusted": true,
    "pycharm": {
     "name": "#%%\n"
    }
   },
   "execution_count": 5,
   "outputs": []
  },
  {
   "cell_type": "code",
   "source": [
    "BATCH_SIZE = 32\n",
    "train_count = len(train_image_path)\n",
    "test_count=len(test_image_path)\n",
    "num_epochs = 30\n",
    "\n",
    "train_image_ds = train_image_ds.shuffle(train_count).batch(BATCH_SIZE)\n",
    "train_image_ds = train_image_ds.prefetch(AUTOTUNE)\n",
    "test_image_ds = test_image_ds.batch(BATCH_SIZE)\n",
    "test_image_ds = test_image_ds.prefetch(AUTOTUNE)"
   ],
   "metadata": {
    "execution": {
     "iopub.status.busy": "2022-08-07T07:08:33.824774Z",
     "iopub.execute_input": "2022-08-07T07:08:33.825448Z",
     "iopub.status.idle": "2022-08-07T07:08:33.838597Z",
     "shell.execute_reply.started": "2022-08-07T07:08:33.825409Z",
     "shell.execute_reply": "2022-08-07T07:08:33.837562Z"
    },
    "trusted": true,
    "pycharm": {
     "name": "#%%\n"
    }
   },
   "execution_count": 6,
   "outputs": []
  },
  {
   "cell_type": "code",
   "source": [
    "model = tf.keras.Sequential([\n",
    "    tf.keras.layers.Conv2D(64,[3,3],input_shape=(224,224,3)),\n",
    "    tf.keras.layers.BatchNormalization(),\n",
    "    tf.keras.layers.Activation('relu'),\n",
    "    tf.keras.layers.Conv2D(64,[3,3]),\n",
    "    tf.keras.layers.BatchNormalization(),\n",
    "    tf.keras.layers.Activation('relu'),\n",
    "    \n",
    "    tf.keras.layers.MaxPooling2D(),\n",
    "    \n",
    "    tf.keras.layers.Conv2D(128,(3,3)),\n",
    "    tf.keras.layers.BatchNormalization(),\n",
    "    tf.keras.layers.Activation('relu'),\n",
    "    tf.keras.layers.Conv2D(128,(3,3)),\n",
    "    tf.keras.layers.BatchNormalization(),\n",
    "    tf.keras.layers.Activation('relu'),\n",
    "    \n",
    "    tf.keras.layers.MaxPooling2D(),\n",
    "    \n",
    "    tf.keras.layers.Conv2D(256,(3,3)),\n",
    "    tf.keras.layers.BatchNormalization(),\n",
    "    tf.keras.layers.Activation('relu'),\n",
    "    tf.keras.layers.Conv2D(256,(3,3)),\n",
    "    tf.keras.layers.BatchNormalization(),\n",
    "    tf.keras.layers.Activation('relu'),\n",
    "    tf.keras.layers.Conv2D(256,(1,1)),\n",
    "    tf.keras.layers.BatchNormalization(),\n",
    "    tf.keras.layers.Activation('relu'),\n",
    "    \n",
    "    tf.keras.layers.MaxPooling2D(),\n",
    "    \n",
    "    tf.keras.layers.Conv2D(512,(3,3)),\n",
    "    tf.keras.layers.BatchNormalization(),\n",
    "    tf.keras.layers.Activation('relu'),\n",
    "    tf.keras.layers.Conv2D(512,(3,3)),\n",
    "    tf.keras.layers.BatchNormalization(),\n",
    "    tf.keras.layers.Activation('relu'),\n",
    "    tf.keras.layers.Conv2D(512,(1,1)),\n",
    "    tf.keras.layers.BatchNormalization(),\n",
    "    tf.keras.layers.Activation('relu'),\n",
    "    \n",
    "    tf.keras.layers.MaxPooling2D(),\n",
    "    \n",
    "    tf.keras.layers.GlobalAvgPool2D(),\n",
    "    tf.keras.layers.Dense(2048),\n",
    "    tf.keras.layers.Activation('relu'),\n",
    "    tf.keras.layers.Dense(1024),\n",
    "    tf.keras.layers.Activation('relu'),\n",
    "    tf.keras.layers.Dense(512),\n",
    "    tf.keras.layers.Activation('relu'),\n",
    "    tf.keras.layers.Dense(1)\n",
    "])"
   ],
   "metadata": {
    "execution": {
     "iopub.status.busy": "2022-08-07T07:08:33.841813Z",
     "iopub.execute_input": "2022-08-07T07:08:33.842081Z",
     "iopub.status.idle": "2022-08-07T07:08:35.155907Z",
     "shell.execute_reply.started": "2022-08-07T07:08:33.842055Z",
     "shell.execute_reply": "2022-08-07T07:08:35.154958Z"
    },
    "trusted": true,
    "pycharm": {
     "name": "#%%\n"
    }
   },
   "execution_count": 7,
   "outputs": []
  },
  {
   "cell_type": "code",
   "execution_count": null,
   "outputs": [],
   "source": [
    "steps_per_epoch = train_count // BATCH_SIZE\n",
    "validation_steps = test_count // BATCH_SIZE"
   ],
   "metadata": {
    "collapsed": false,
    "pycharm": {
     "name": "#%%\n"
    }
   }
  },
  {
   "cell_type": "code",
   "source": [
    "model.compile(\n",
    "    optimizer=tf.keras.optimizers.Adam(learning_rate=0.001),\n",
    "    loss=tf.losses.BinaryCrossentropy(from_logits=True),\n",
    "    metrics=['acc']\n",
    ")\n",
    "model.fit(\n",
    "    train_image_ds,\n",
    "    epochs=30,\n",
    "    steps_per_epoch=steps_per_epoch,\n",
    "    validation_data=test_image_ds,\n",
    "    validation_steps=validation_steps\n",
    ")"
   ],
   "metadata": {
    "trusted": true,
    "pycharm": {
     "name": "#%%\n"
    }
   },
   "execution_count": null,
   "outputs": []
  }
 ]
}